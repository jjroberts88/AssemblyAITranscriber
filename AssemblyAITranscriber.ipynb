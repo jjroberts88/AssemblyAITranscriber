{
 "cells": [
  {
   "cell_type": "code",
   "execution_count": null,
   "metadata": {},
   "outputs": [],
   "source": [
    "\n",
    "import os\n",
    "import assemblyai as aai\n",
    "\n",
    "aai.settings.api_key = \"<API KEY>\"\n",
    "transcriber = aai.Transcriber()\n",
    "\n",
    "audio_folder = \"<Folder containing audio files>\"\n",
    "\n",
    "output_folder = \"<Output folder for saving transcripts>\"\n",
    "\n",
    "for filename in os.listdir(audio_folder):\n",
    "    if filename.endswith(\".mp3\"):\n",
    "        audio_path = os.path.join(audio_folder, filename)\n",
    "        \n",
    "        transcript = transcriber.transcribe(audio_path)\n",
    "        \n",
    "        transcript_text = transcript.text\n",
    "        transcript_filename = os.path.splitext(filename)[0] + \".txt\"\n",
    "        transcript_path = os.path.join(output_folder, transcript_filename)\n",
    "        \n",
    "        with open(transcript_path, \"w\") as f:\n",
    "            f.write(transcript_text)\n",
    "        \n",
    "        print(f\"Transcription saved for '{filename}'\")\n",
    "\n"
   ]
  }
 ],
 "metadata": {
  "kernelspec": {
   "display_name": "Python 3.8.16 64-bit",
   "language": "python",
   "name": "python3"
  },
  "language_info": {
   "codemirror_mode": {
    "name": "ipython",
    "version": 3
   },
   "file_extension": ".py",
   "mimetype": "text/x-python",
   "name": "python",
   "nbconvert_exporter": "python",
   "pygments_lexer": "ipython3",
   "version": "3.8.16"
  },
  "orig_nbformat": 4,
  "vscode": {
   "interpreter": {
    "hash": "949777d72b0d2535278d3dc13498b2535136f6dfe0678499012e853ee9abcab1"
   }
  }
 },
 "nbformat": 4,
 "nbformat_minor": 2
}
