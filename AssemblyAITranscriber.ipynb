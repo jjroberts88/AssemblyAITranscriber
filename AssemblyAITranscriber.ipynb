{
 "cells": [
  {
   "cell_type": "code",
   "execution_count": 1,
   "metadata": {},
   "outputs": [
    {
     "name": "stdout",
     "output_type": "stream",
     "text": [
      "Transcription saved for 'CSA case Downs antenatal screening [umqElQeRvnk].mp3'\n",
      "Transcription saved for 'CSA Breaking Bad News [JSrXT2TMUtM].mp3'\n",
      "Transcription saved for 'CSA morning after pill telephone consultation [urUMWbQR62o].mp3'\n",
      "Transcription saved for 'CSA COCP Pill Start in under 10 mins [eeaG7wJAtkI].mp3'\n",
      "Transcription saved for 'Mentor RCA Consult - Facial Pain [eRCf6mN9d3U].mp3'\n",
      "Transcription saved for 'CSA telephone consultation - Worried about mum [ysV46oNXX9w].mp3'\n",
      "Transcription saved for 'SCA consultation skills -  LUTs within 12 mins [lKXbeTB3kRY].mp3'\n",
      "Transcription saved for 'SCA consultation skills - Request for a health check [0Hz5-HSwydg].mp3'\n",
      "Transcription saved for 'CSA HRT start done well [F5tL1e8gL3c].mp3'\n",
      "Transcription saved for 'CSA   hydrocele [bXKMwQFqIqw].mp3'\n",
      "Transcription saved for 'SCA Telephone consultation - urinary incontinence [1yALdtt4Vr4].mp3'\n",
      "Transcription saved for 'SCA Telephone consultation - Bulimia [5VUchoruiUk].mp3'\n",
      "Transcription saved for 'Mentor Courses RCA Consult Headache [7VGZk4zDKZk].mp3'\n",
      "Transcription saved for 'SCA LBP telephone consultation -  with cues missed (This is for a Pennine teaching session) [q5iiP37VYQQ].mp3'\n",
      "Transcription saved for 'CSA genetics polycystic kidneys [xv5w2ZjU468].mp3'\n",
      "Transcription saved for 'CSA telephone consultation - PSA and LUTs in under 9 minutes! [R7ozdQUPl-c].mp3'\n",
      "Transcription saved for 'Chest Pain ｜ RCA Case Example [z_MHS9Xv6eg].mp3'\n",
      "Transcription saved for 'We Like The Moon [I9MZNEXrElw].mp3'\n",
      "Transcription saved for 'SCA consultation skills - Annual Rh A review within 12 minutes [m4xHRr0ZBP8].mp3'\n",
      "Transcription saved for 'audio.mp3'\n",
      "Transcription saved for 'CSA the complaint [Bmz5Xz7CREI].mp3'\n",
      "Transcription saved for 'CSA  - childhood grommets [4XyyyGQgAmc].mp3'\n",
      "Transcription saved for 'Gynaecology course - the abnormal smear consultation [E5hWDo2DHwA].mp3'\n",
      "Transcription saved for 'MentorRCA - An example remote audio demonstration  for the new RCA⧸CSA July 2020 by Dr Nigel Giam [r2IS-5OWsyQ].mp3'\n",
      "Transcription saved for 'CSA female urinary incontinence OAB [BpAvAIYlRFQ].mp3'\n",
      "Transcription saved for 'CSA RCA case  knee pain with examination [1fg6u5kq0cA].mp3'\n",
      "Transcription saved for 'CSA case menorrhagia [mIU_ffXqykA].mp3'\n",
      "Transcription saved for 'Sesame Street： Elmo's Ducks Lyric Video ｜ Elmo's Sing Along Series [w6CX_atYwus].mp3'\n",
      "Transcription saved for 'CSA ED done well [V8ggQZQLHeI].mp3'\n",
      "Transcription saved for 'MENTOR CSA -ZOOM PILOT - BREAKING BAD NEWS [DzZgLUNNbPc].mp3'\n",
      "Transcription saved for 'CSA Q RISK explained [Iiuh_O5U_UY].mp3'\n",
      "Transcription saved for 'CSA - Explaining angina.mpg [vD_zERqRslA].mp3'\n",
      "Transcription saved for 'SCA consultation skills - GP with work stress within 12 mins [EZmYwUP4ndg].mp3'\n",
      "Transcription saved for 'CSA case GP misusing Tramadol [SjspAyYRexw].mp3'\n",
      "Transcription saved for 'CSA case headache with examination [b_SBXPFlYV4].mp3'\n",
      "Transcription saved for 'CSA -a case dyspepsia [pAEJbLw0YL4].mp3'\n",
      "Transcription saved for 'CSA Case Alzheimers Disease [SMhSqTuRq4I].mp3'\n",
      "Transcription saved for 'CSA case the coughing patient.mpg [ChMpOOf3Al0].mp3'\n",
      "Transcription saved for 'SCA - LBP  telephone consultation with cues handled (this is for a Pennine teaching session) [iioiRh9GsQQ].mp3'\n",
      "Transcription saved for 'MENTOR RCA CONSULTS - UNDIFFERENTIATED CHEST PAIN - TASTER [Fd8_wuJPWq0].mp3'\n",
      "Transcription saved for 'CSA case Abdo pain done well [O2qYU8n4VsA].mp3'\n",
      "Transcription saved for 'CSA Gender dysphoria [60__JPrHTPM].mp3'\n",
      "Transcription saved for 'CSA - a case  of hoarse voice and saying no to antibiotcs [CXGvBamypQM].mp3'\n"
     ]
    }
   ],
   "source": [
    "\n",
    "import os\n",
    "import assemblyai as aai\n",
    "\n",
    "aai.settings.api_key = \"<API KEY>\"\n",
    "transcriber = aai.Transcriber()\n",
    "\n",
    "audio_folder = \"<Folder containing audio files>\"\n",
    "\n",
    "output_folder = \"<Output folder for saving transcripts>\"\n",
    "\n",
    "for filename in os.listdir(audio_folder):\n",
    "    if filename.endswith(\".mp3\"):\n",
    "        audio_path = os.path.join(audio_folder, filename)\n",
    "        \n",
    "        transcript = transcriber.transcribe(audio_path)\n",
    "        \n",
    "        transcript_text = transcript.text\n",
    "        transcript_filename = os.path.splitext(filename)[0] + \".txt\"\n",
    "        transcript_path = os.path.join(output_folder, transcript_filename)\n",
    "        \n",
    "        with open(transcript_path, \"w\") as f:\n",
    "            f.write(transcript_text)\n",
    "        \n",
    "        print(f\"Transcription saved for '{filename}'\")\n",
    "\n"
   ]
  }
 ],
 "metadata": {
  "kernelspec": {
   "display_name": "Python 3.8.16 64-bit",
   "language": "python",
   "name": "python3"
  },
  "language_info": {
   "codemirror_mode": {
    "name": "ipython",
    "version": 3
   },
   "file_extension": ".py",
   "mimetype": "text/x-python",
   "name": "python",
   "nbconvert_exporter": "python",
   "pygments_lexer": "ipython3",
   "version": "3.8.16"
  },
  "orig_nbformat": 4,
  "vscode": {
   "interpreter": {
    "hash": "949777d72b0d2535278d3dc13498b2535136f6dfe0678499012e853ee9abcab1"
   }
  }
 },
 "nbformat": 4,
 "nbformat_minor": 2
}
